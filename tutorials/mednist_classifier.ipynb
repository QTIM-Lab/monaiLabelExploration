{
 "cells": [
  {
   "cell_type": "code",
   "execution_count": null,
   "metadata": {},
   "outputs": [],
   "source": [
    "import os\n",
    "\n",
    "import monai.transforms as mt\n",
    "import torch\n",
    "from monai.apps import MedNISTDataset\n",
    "from monai.data import DataLoader\n",
    "from monai.engines import SupervisedTrainer\n",
    "from monai.inferers import SimpleInferer\n",
    "from monai.networks import eval_mode\n",
    "from monai.networks.nets import densenet121\n",
    "\n",
    "root_dir = os.environ.get(\"ROOTDIR\", \".\")"
   ]
  },
  {
   "cell_type": "code",
   "execution_count": null,
   "metadata": {},
   "outputs": [],
   "source": [
    "max_epochs = 2\n",
    "# device = torch.device(\"cuda:0\")\n",
    "device = torch.device(\"cpu\")\n",
    "net = densenet121(spatial_dims=2, in_channels=1, out_channels=6).to(device)\n",
    "\n",
    "transform = mt.Compose([\n",
    "        mt.LoadImaged(keys=\"image\", image_only=True),\n",
    "        mt.EnsureChannelFirstd(keys=\"image\"),\n",
    "        mt.ScaleIntensityd(keys=\"image\"),\n",
    "])\n",
    "\n",
    "# dataset = MedNISTDataset(root_dir=root_dir, transform=transform, section=\"training\", download=True)\n"
   ]
  },
  {
   "cell_type": "code",
   "execution_count": null,
   "metadata": {},
   "outputs": [],
   "source": [
    "\n",
    "train_dl = DataLoader(dataset, batch_size=512, shuffle=True, num_workers=4)\n",
    "\n",
    "trainer = SupervisedTrainer(\n",
    "    device=device,\n",
    "    max_epochs=max_epochs,\n",
    "    train_data_loader=train_dl,\n",
    "    network=net,\n",
    "    optimizer=torch.optim.Adam(net.parameters(), lr=1e-5),\n",
    "    loss_function=torch.nn.CrossEntropyLoss(),\n",
    "    inferer=SimpleInferer(),\n",
    ")\n",
    "\n",
    "trainer.run()\n"
   ]
  },
  {
   "cell_type": "code",
   "execution_count": null,
   "metadata": {},
   "outputs": [],
   "source": [
    "\n",
    "torch.jit.script(net).save(\"mednist.ts\")\n",
    "\n",
    "class_names = (\"AbdomenCT\", \"BreastMRI\", \"CXR\", \"ChestCT\", \"Hand\", \"HeadCT\")\n",
    "testdata = MedNISTDataset(root_dir=root_dir, transform=transform, section=\"test\", runtime_cache=True)\n",
    "\n",
    "max_items_to_print = 10\n",
    "eval_dl = DataLoader(testdata[:max_items_to_print], batch_size=1, num_workers=0)\n",
    "with eval_mode(net):\n",
    "    for item in eval_dl:\n",
    "        result = net(item[\"image\"].to(device))\n",
    "        prob = result.detach().to(\"cpu\")[0]\n",
    "        pred = class_names[prob.argmax()]\n",
    "        gt = item[\"class_name\"][0]\n",
    "        print(f\"Prediction: {pred}. Ground-truth: {gt}\")"
   ]
  },
  {
   "cell_type": "code",
   "execution_count": null,
   "metadata": {},
   "outputs": [],
   "source": [
    "obj = torch.jit.load(\"./MedNISTClassifier/models/mednist.ts\");\n",
    "torch.save(obj.state_dict(), \"./MedNISTClassifier/models/mednist.pt\")"
   ]
  },
  {
   "cell_type": "code",
   "execution_count": null,
   "metadata": {},
   "outputs": [],
   "source": [
    "os.listdir('.')"
   ]
  },
  {
   "cell_type": "markdown",
   "metadata": {},
   "source": [
    "%%bash\n",
    "# Do this outside this notebook with config files later\n",
    "\n",
    "BUNDLE=\"./MedNISTClassifier\"\n",
    "\n",
    "# run the bundle with epochs set to 2 for speed during testing, change this to get a better result\n",
    "python -m monai.bundle run train \\\n",
    "    --meta_file \"$BUNDLE/configs/metadata.json\" \\\n",
    "    --config_file \"['$BUNDLE/configs/common.yaml','$BUNDLE/configs/train.yaml']\" \\\n",
    "    --max_epochs 2\n",
    "\n",
    "# we'll use the trained network as the model object for this bundle\n",
    "mv model.ts $BUNDLE/models/model.ts\n",
    "\n",
    "# generate the saved dictionary file as well\n",
    "cd \"$BUNDLE/models\""
   ]
  }
 ],
 "metadata": {
  "kernelspec": {
   "display_name": "venv3.10.4",
   "language": "python",
   "name": "python3"
  },
  "language_info": {
   "codemirror_mode": {
    "name": "ipython",
    "version": 3
   },
   "file_extension": ".py",
   "mimetype": "text/x-python",
   "name": "python",
   "nbconvert_exporter": "python",
   "pygments_lexer": "ipython3",
   "version": "3.8.18"
  },
  "orig_nbformat": 4
 },
 "nbformat": 4,
 "nbformat_minor": 2
}
